{
 "cells": [
  {
   "cell_type": "code",
   "execution_count": 13,
   "metadata": {},
   "outputs": [],
   "source": [
    "import argparse\n",
    "import json\n",
    "import numpy as np"
   ]
  },
  {
   "cell_type": "code",
   "execution_count": 14,
   "metadata": {},
   "outputs": [],
   "source": [
    "def build_arg_parser():\n",
    "    parser=argparse.ArgumentParser(description='compute similarity score')\n",
    "\n",
    "    parser.add_argument('--user1',dest='user1',required=True,help='first user')\n",
    "    parser.add_argument('--user2',dest='user2',required=True,help='second user')\n",
    "    \n",
    "    parser.add_argument('--score-type',dest=\"score_type\",required=True)\n",
    "    return parser"
   ]
  },
  {
   "cell_type": "code",
   "execution_count": 15,
   "metadata": {},
   "outputs": [],
   "source": [
    "#calculer la distance euclidienne\n",
    "def score_euclidien(dataset,user1,user2):\n",
    "\n",
    "    if user1 not in dataset:\n",
    "        raise TypeError(f\"cannot find {user1} in the dataset.\")\n",
    "    if user2 not in dataset:\n",
    "        raise TypeError(f\"cannot find {user2} in the dataset.\")\n",
    "    \n",
    "    #creer un dictionnaire pour les films evaluer par les 2 utilisateurs\n",
    "    film_commun={}\n",
    "    for item in dataset[user1]:\n",
    "        if item in dataset[user2]:\n",
    "            film_commun[item]=1\n",
    "    \n",
    "    #si aucun film retorner 0\n",
    "    if len(film_commun)==0:\n",
    "        return 0\n",
    "\n",
    "\n",
    "    difference_carree=[]\n",
    "    for item in dataset[user1]:\n",
    "        if item in dataset[user2]:\n",
    "            difference_carree.append(np.square(dataset[user1][item]-dataset[user2][item]))\n",
    "    \n",
    "    return 1/(1+np.sqrt(np.sum(difference_carree)))"
   ]
  },
  {
   "cell_type": "code",
   "execution_count": null,
   "metadata": {},
   "outputs": [],
   "source": [
    "if __name__=='__main__':\n",
    "\n",
    "    fichier_evaluation='ratings.json'"
   ]
  }
 ],
 "metadata": {
  "kernelspec": {
   "display_name": "Python 3",
   "language": "python",
   "name": "python3"
  },
  "language_info": {
   "codemirror_mode": {
    "name": "ipython",
    "version": 3
   },
   "file_extension": ".py",
   "mimetype": "text/x-python",
   "name": "python",
   "nbconvert_exporter": "python",
   "pygments_lexer": "ipython3",
   "version": "3.12.5"
  }
 },
 "nbformat": 4,
 "nbformat_minor": 2
}
