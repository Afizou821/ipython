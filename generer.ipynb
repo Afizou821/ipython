{
 "cells": [
  {
   "cell_type": "code",
   "execution_count": 3,
   "metadata": {},
   "outputs": [
    {
     "name": "stdout",
     "output_type": "stream",
     "text": [
      "   Temperature   Humidity  Precipitation  Soil Moisture\n",
      "0    22.490802  49.891265      14.599966             59\n",
      "1    34.014286  46.632968       3.690240             43\n",
      "2    29.639879  34.092313       6.932794             35\n",
      "3    26.973170  68.581334      13.265613             76\n",
      "4    18.120373  58.129933       9.641787             64\n"
     ]
    }
   ],
   "source": [
    "import numpy as np\n",
    "import pandas as pd\n",
    "\n",
    "n_sample=10000\n",
    "np.random.seed(42)\n",
    "\n",
    "temperature=np.random.uniform(15,35,n_sample)\n",
    "humidity=np.random.uniform(20,100,n_sample)\n",
    "precipitation=np.random.uniform(0,20,n_sample)\n",
    "\n",
    "soil_moisture=(humidity+precipitation-0.2*temperature)\n",
    "soil_moisture=soil_moisture.astype(int)\n",
    "\n",
    "data=pd.DataFrame({\n",
    "    'Temperature':temperature,\n",
    "    'Humidity':humidity,\n",
    "    'Precipitation':precipitation,\n",
    "    'Soil Moisture':soil_moisture\n",
    "})\n",
    "data.to_csv('simulated_soil_data.csv',index=False)\n",
    "print(data.head())"
   ]
  },
  {
   "cell_type": "code",
   "execution_count": 4,
   "metadata": {},
   "outputs": [],
   "source": [
    "from sklearn.model_selection import train_test_split\n",
    "from sklearn.ensemble import RandomForestClassifier\n",
    "from sklearn.metrics import accuracy_score\n",
    "\n",
    "\n",
    "data=pd.read_csv('simulated_soil_data.csv')"
   ]
  }
 ],
 "metadata": {
  "kernelspec": {
   "display_name": "Python 3",
   "language": "python",
   "name": "python3"
  },
  "language_info": {
   "codemirror_mode": {
    "name": "ipython",
    "version": 3
   },
   "file_extension": ".py",
   "mimetype": "text/x-python",
   "name": "python",
   "nbconvert_exporter": "python",
   "pygments_lexer": "ipython3",
   "version": "3.12.5"
  }
 },
 "nbformat": 4,
 "nbformat_minor": 2
}
